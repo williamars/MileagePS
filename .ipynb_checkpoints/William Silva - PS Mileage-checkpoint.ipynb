{
 "cells": [
  {
   "cell_type": "markdown",
   "metadata": {},
   "source": [
    "# **INSPER MILEAGE**"
   ]
  },
  {
   "cell_type": "markdown",
   "metadata": {},
   "source": [
    "#### William Augusto Reis da Silva \n",
    "            Engenharia de Computação | Turma 2A"
   ]
  },
  {
   "cell_type": "markdown",
   "metadata": {},
   "source": [
    "Este arquivo refere-se ao processo seletivo do Insper Mileage, um projeto presente no Insper Instituto de Ensino e Pesquisa e que tem por objetivo fazer um carro elétrico com alta eficiênca energética, para competir com outras universidades do país e desenvolver os membros internos.\n",
    "\n",
    "Visando à minha inserção em tal projeto, irei realizar um tutorial sobre API REST, apresentando o tema e demonstrando aplicação, além de outras coisas que podem ser exploradas. \n",
    "\n",
    "\n",
    "\n",
    "\n",
    "Enjoy the journey 🙌"
   ]
  },
  {
   "cell_type": "markdown",
   "metadata": {},
   "source": [
    "# API REST"
   ]
  },
  {
   "cell_type": "markdown",
   "metadata": {},
   "source": [
    "##### API (Application Programming Interface)"
   ]
  },
  {
   "cell_type": "markdown",
   "metadata": {},
   "source": [
    "API, traduzido \"Interface de Programação de Aplicações\", é um código, que funciona como uma interface entre dois sistemas, fazendo com que eles consigam se comunicar entre si, sem que saibam detalhes da implementação de cada *software*, garantindo a segurança.\n",
    "\n",
    "As API's ajudam empresas no sentido de que reduz a necessidade de criar um *software* para funções específicas, o que aumenta a produtividade e reduz o risco de erro. Com o crescimento da computação em nuvem, o uso de API se tornou intenso para fazer programas se comunicarem. Além disso, elas são responsáveis pela conexão e interação entre softwares, para que tudo funcione de maneira conjunta.\n",
    "\n",
    "Um **exemplo** que usa API é o Google Maps ***[1]***. Quando um usuário procura um local, ele tem no caminho uma API com o código do Google Maps, que fará a comunicação para retornar a localização que o usuário está buscando.\n",
    "\n",
    "Outro **exemplo** em que usamos API é quando vamos fazer uma compra no cartão de crédito pela internet, tendo em vista que o site usa API para confirmar se as informações passadas são corretas ou não.\n",
    "\n",
    "Uma API é desenvolvida para facilitar a interface direta com uma aplicação.\n",
    "\n",
    "Outra informação relevante, é que \"é um processo realizado no back-end de aplicações, onde o usuário não vê a interação de pedido e resposta acontecendo. O que ele percebe é a possibilidade de realizar diversas tarefas em um só lugar\"***[4]***\n",
    "\n",
    "Por fim, é importante ressaltar que \"a inserção das API’s nos sites e aplicativos de diversos nichos de mercado faz com que seja extremamente mais fácil coletar e armazenar informações unindo diversas ferramentas de análise de forma simples, prática e funcional, sempre mantendo a segurança e a estabilidade na execução.\"***[4]***"
   ]
  },
  {
   "cell_type": "markdown",
   "metadata": {},
   "source": [
    "##### REST (Representational State Transfer)"
   ]
  },
  {
   "cell_type": "markdown",
   "metadata": {},
   "source": [
    "REST, traduzido \"Transferência de Estado Representacional\", é um ramo de arquitetura e comunicação que tem um alto índice de uso na WEB.\n"
   ]
  },
  {
   "cell_type": "markdown",
   "metadata": {},
   "source": [
    "Sempre que for necessário uma interação com o usuário do site, é necessário usar uma API RESTful e a qualidade desta importa muito, para que se tenha uma boa comunicação.\n",
    "\n",
    "O objetivo do REST é usar de maneira eficiente as ***características do protocolo HTTP****, fazendo com que haja um trânsito mais rápido e mais eficiente de informações na aplicação.\n",
    "\n",
    "***Características**: Protocolo HTTP é responsável pela comunicação da pessoa que utiliza o software e o servidor do site. O tráfego de dados é dado por mensagens HTTP, sendo que as conexões são independentes.\n",
    "\n",
    "Há termos, denominados verbos, muito importantes, tais como:\n",
    "\n",
    "GET: Recurso recuperado no servidor.\n",
    "\n",
    "POST: Recurso inserido.\n",
    "\n",
    "PUT: Recurso atualizado. \n",
    "\n",
    "DELETE: Recurso removido.\n",
    "\n",
    "Ou seja, quando chamamos o HTTP, podemos fazer quatro tipo de coisas e a comunicação será divergente conforme o verbo que utilizarmos.\n",
    "\n"
   ]
  },
  {
   "cell_type": "markdown",
   "metadata": {},
   "source": [
    "## JSON\n",
    "\n",
    "Um tipo de arquivo muito usado para enviar informações é o JSON, tendo em vista que é uma forma leve de representação e leva de informações. Abaixo, vemos um exemplo de como é um arquivo JSON, numa plataforma em que se consiga patrocínios ou contatos para determinado projeto."
   ]
  },
  {
   "cell_type": "code",
   "execution_count": 1,
   "metadata": {},
   "outputs": [],
   "source": [
    "patrocinio = [\n",
    "    {\n",
    "        \"id\": 1, \n",
    "        \"empresa\": \"GM Motors\",\n",
    "        \"troca\": \"Divulgação\",\n",
    "        \"benefício\": \"Peças exclusivas\"\n",
    "    }\n",
    "]\n",
    "    \n",
    "contatos = [\n",
    "    {\n",
    "        \"id\": 1,\n",
    "        \"nome\": \"Will\",\n",
    "        \"e-mail\": \"williamars@al.insper.edu.br\",\n",
    "        \"contato\": \"Processo seletivo\"\n",
    "    }\n",
    "]"
   ]
  },
  {
   "cell_type": "markdown",
   "metadata": {},
   "source": [
    "Para usar o protocolo HTTP, podemos usar o REST. Porém, para representar informações que precisam ser transportadas pelo HTTP em uma arquitetura REST, podemos usar o JSON."
   ]
  },
  {
   "cell_type": "markdown",
   "metadata": {},
   "source": [
    "Do exemplo acima, podemos exemplificar como funciona um REST. \n",
    "Suponha que temos a URL:\n",
    "\n",
    "$$www.mileage.com/contatos$$\n",
    "\n",
    "Caso queiramos pegar os contatos, usamos o GET, como foi proferido:"
   ]
  },
  {
   "cell_type": "raw",
   "metadata": {},
   "source": [
    "Request:\n",
    "[GET] http://www.mileage.com/contatos\n",
    "Body: empty"
   ]
  },
  {
   "cell_type": "code",
   "execution_count": 11,
   "metadata": {},
   "outputs": [
    {
     "data": {
      "text/plain": [
       "[{<function id(obj, /)>: 1, 'nome': 'Will'}]"
      ]
     },
     "execution_count": 11,
     "metadata": {},
     "output_type": "execute_result"
    }
   ],
   "source": [
    "# A resposta seria:\n",
    "# HTTP Code 200 OK\n",
    "[\n",
    "    { id: 1, \"nome\": \"Will\"},\n",
    "]"
   ]
  },
  {
   "cell_type": "raw",
   "metadata": {},
   "source": [
    "Caso eu queira saber mais detalhes:\n",
    "\n",
    "\n",
    "Request:\n",
    "[GET] http://www.mileage.com/contatos/1\n",
    "Body: empty"
   ]
  },
  {
   "cell_type": "code",
   "execution_count": 12,
   "metadata": {},
   "outputs": [
    {
     "data": {
      "text/plain": [
       "[{<function id(obj, /)>: 1,\n",
       "  'nome': 'Will',\n",
       "  'e-mail': 'williamars@al.insper.edu.br',\n",
       "  'contato': 'Processo seletivo'}]"
      ]
     },
     "execution_count": 12,
     "metadata": {},
     "output_type": "execute_result"
    }
   ],
   "source": [
    "# Retornaria\n",
    "\n",
    "# HTTP Code 200 OK\n",
    "[\n",
    "    { id: 1, \"nome\": \"Will\",  \"e-mail\": \"williamars@al.insper.edu.br\", \"contato\": \"Processo seletivo\"},\n",
    "]"
   ]
  },
  {
   "cell_type": "markdown",
   "metadata": {},
   "source": [
    "É importante ressaltar que, caso se queira colocar informações ou retirar, muda-se o [GET], para um verbo que almejamos e, assim, o body irá mudar. Caso queira usar o [POST], o body terá que ter a informação que se deseja aplicar e isso será a solução."
   ]
  },
  {
   "cell_type": "markdown",
   "metadata": {},
   "source": [
    "\"E cada um dos serviços acima também retornaria o status HTTP correspondente. No caso do POST seria um 201 CREATED (sucesso, recurso criado). No caso do GET seria um 200 OK (sucesso). No caso do DELETE seria um 204 NO CONTENT (sucesso, sem conteúdo para retornar)\" ***[6]***"
   ]
  },
  {
   "cell_type": "markdown",
   "metadata": {},
   "source": [
    "# Exemplo"
   ]
  },
  {
   "cell_type": "markdown",
   "metadata": {},
   "source": [
    "Um exemplo muito claro da aplicação da API REST está neste repositório abaixo*\n",
    "\n",
    "                          <https://github.com/Rocketseat/youtube-api-rest-restful>\n",
    "\n",
    "Ele demonstra como funciona uma API e no código ****server.js**** aplica uma função que faz toda a comunicação com os dados que se possui do outro arquivo, demonstrando exatamente a aplicação de uma API num banco de dados grande e que se consiga realizar pesquisas e consultar dados, além de guardar ou atualizá-los sempre que necessário.\n",
    "\n",
    "\n",
    "* Repositório obtido em ***[7]***"
   ]
  },
  {
   "cell_type": "markdown",
   "metadata": {},
   "source": [
    "## Como aplicar API REST no Insper Mileage?"
   ]
  },
  {
   "cell_type": "markdown",
   "metadata": {},
   "source": [
    "O Insper Mileage é um projeto inovador e que vem com muitas propostas diferenciadas, o que permite a aplicação da API REST em alguns casos. \n",
    "\n",
    "Como foi visto, a API REST é muito utilizada em sites para a comunicação entre usuário e o servidor e, de fato, essa é uma das melhores aplicações para o projeto. Como está tendo desenvolvimento do site do projeto, é de extrema relevância que se use API para principalmente a página de contato, onde a pessoa de comunica com a entidade, fazendo com que os dados dela sejam armazenados e futuramente utilizados para divulgação de atividades realizadas pelo Mileage e também para que possamos ver quantas pessoas estão entrando e contato e por qual motivo isso está sendo realizado.\n",
    "\n",
    "Ademais, o Mileage vem com uma proposta de obter dados sobre a pista na qual irá correr para auxiliar o piloto do time e, ao guardar isso em um servidor, será possível ter uma tela dentro do carro e, nessa tela, o piloto conseguir ter alguns dados que sejam relevantes para ele, como o perigo de uma determinada curva, qual a melhor velocidade para uma curva, informações que seriam guardadas no servidor antes da corrida e com um teste prévio.\n",
    "\n",
    "Com os dados no servidor, podendo ser um da Amazon, pode-se pegar os dados, usar Machine Learning, para fazer modelos preditivos, um tema divergentes, para mostrar qual a melhor decisão a se tomar e, após isso, fazer a comunicação com o piloto por meio da API REST, com o dispositivo que se terá no carro."
   ]
  },
  {
   "cell_type": "markdown",
   "metadata": {},
   "source": [
    "## REFERÊNCIAS\n",
    "\n",
    "**[1]** Você conhece a diferença entre os APIs e Web Services?. Base2. Disponível em: https://new.base2.com.br/2016/06/08/voce-conhece-a-diferenca-entre-os-apis-e-web-services/. Acesso em 5 de nov. de 2019.\n",
    "\n",
    "**[2]** P.,JACKSON. O que é API? REST e RESTful?. Disponível em: https://becode.com.br/o-que-e-api-rest-e-restful/. Acesso em 5 de nov. de 2019.\n",
    "\n",
    "**[3]** T.,THIAGO. O que é API RESTful? Entenda aqui!. Disponível em: https://www.iset.com.br/blog/o-que-e-api-restful-entenda-aqui/. Acesso em 4 de nov. de 2019.\n",
    "\n",
    "**[4]** BATTISTELLI, Juliana. O que é API e para que serve dentro da programação?. Disponível em https://blog.mastertech.com.br/tecnologia/o-que-e-api-e-para-que-serve-dentro-da-programacao/. Acesso em 5 de nov. de 2019.\n",
    "\n",
    "**[5]** CAMPOMORI, Cleber. REST não é simplesmente retornar JSON: indo além com APIs REST. Disponível em: https://www.treinaweb.com.br/blog/rest-nao-e-simplesmente-retornar-json-indo-alem-com-apis-rest/. Acesso em 6 de nov. de 2019.\n",
    "\n",
    "**[6]** O que é REST e RESTful?. Disponível em: https://pt.stackoverflow.com/questions/45783/o-que-%c3%a9-rest-e-restful?noredirect=1&lq=1. Acesso em 6 de nov. de 2019.\n",
    "\n",
    "**[7]** BRITO, Mayk. O que é API? REST e RESTful?. Disponível em: https://www.youtube.com/watch?v=ghTrp1x_1As. Acesso em 6 de nov. de 2019."
   ]
  }
 ],
 "metadata": {
  "kernelspec": {
   "display_name": "Python 3",
   "language": "python",
   "name": "python3"
  },
  "language_info": {
   "codemirror_mode": {
    "name": "ipython",
    "version": 3
   },
   "file_extension": ".py",
   "mimetype": "text/x-python",
   "name": "python",
   "nbconvert_exporter": "python",
   "pygments_lexer": "ipython3",
   "version": "3.7.3"
  }
 },
 "nbformat": 4,
 "nbformat_minor": 2
}
