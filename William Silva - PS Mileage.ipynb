{
 "cells": [
  {
   "cell_type": "markdown",
   "metadata": {},
   "source": [
    "# **INSPER MILEAGE**"
   ]
  },
  {
   "cell_type": "markdown",
   "metadata": {},
   "source": [
    "#### William Augusto Reis da Silva \n",
    "            Engenharia de Computação | Turma 2A"
   ]
  },
  {
   "cell_type": "markdown",
   "metadata": {},
   "source": [
    "Este arquivo refere-se ao processo seletivo do Insper Mileage, um projeto presente no Insper Instituto de Ensino e Pesquisa que tem por objetivo fazer um carro elétrico com alta eficiênca energética, para competir com outras universidades do país e desenvolver os membros.\n",
    "\n",
    "Visando minha inserção em tal projeto, irei realizar um tutorial sobre API REST, apresentando o tema e demonstrando aplicação, além de diversas outras coisas que podem ser exploradas. \n",
    "\n",
    "\n",
    "\n",
    "\n",
    "Enjoy the journey 🙌"
   ]
  },
  {
   "cell_type": "markdown",
   "metadata": {},
   "source": [
    "# API REST"
   ]
  },
  {
   "cell_type": "markdown",
   "metadata": {},
   "source": [
    "##### API (Application Programming Interface)"
   ]
  },
  {
   "cell_type": "markdown",
   "metadata": {},
   "source": [
    "API, traduzido \"Interface de Programação de Aplicações\", é um código, que funciona como uma interface entre dois sistemas, fazendo com que eles consigam se comunicar entre si, sem que saibam detalhes da implementação de cada *software*, garantindo a segurança.\n",
    "\n",
    "As API's ajudam as empresas no sentido de que reduz a necessidade de criar um *software* para funções específicas, o que aumenta a produtividade e reduz o risco de erro. Com o crescimento da computação em nuvem, o uso de API se tornou intenso para fazer programas se comunicarem\n",
    "\n",
    "Um **exemplo** que usa API é o Google Maps ***[1]***. Quando um usuário procura um local, ele tem no caminho uma API com o código do Google Maps, que fará a comunicação para retornar a localização que o usuário está buscando.\n",
    "\n",
    "Uma API é desenvolvida para facilitar a interface direta com uma aplicação."
   ]
  },
  {
   "cell_type": "markdown",
   "metadata": {},
   "source": [
    "##### REST (Representational State Transfer)"
   ]
  },
  {
   "cell_type": "markdown",
   "metadata": {},
   "source": [
    "REST, traduzido \"Transferência de Estado Representacional\", é um ramo de arquitetura e comunicação que tem um alto índice de uso na WEB.\n"
   ]
  },
  {
   "cell_type": "markdown",
   "metadata": {},
   "source": [
    "Sempre que for necessário uma interação com o usuário do site, é necessário usar uma API RESTful e a qualidade desta importa muito, para que se tenha uma boa comunicação."
   ]
  },
  {
   "cell_type": "markdown",
   "metadata": {},
   "source": [
    "## Exemplo aplicado"
   ]
  },
  {
   "cell_type": "code",
   "execution_count": null,
   "metadata": {},
   "outputs": [],
   "source": []
  },
  {
   "cell_type": "code",
   "execution_count": null,
   "metadata": {},
   "outputs": [],
   "source": []
  },
  {
   "cell_type": "code",
   "execution_count": null,
   "metadata": {},
   "outputs": [],
   "source": []
  },
  {
   "cell_type": "markdown",
   "metadata": {},
   "source": [
    "### Como aplicar API REST no Insper Mileage?"
   ]
  },
  {
   "cell_type": "code",
   "execution_count": null,
   "metadata": {},
   "outputs": [],
   "source": []
  },
  {
   "cell_type": "markdown",
   "metadata": {},
   "source": [
    "## REFERÊNCIAS\n",
    "\n",
    "**[1]** Você conhece a diferença entre os APIs e Web Services?. Base2. Disponível em: https://new.base2.com.br/2016/06/08/voce-conhece-a-diferenca-entre-os-apis-e-web-services/. Acesso em 5 de nov. de 2019.\n",
    "\n",
    "**[2]** P.JACKSON. O que é API? REST e RESTful?. Disponível em: https://becode.com.br/o-que-e-api-rest-e-restful/. Acesso em 5 de nov. de 2019.\n",
    "\n",
    "**[3]** T. Thiago. O que é API RESTful? Entenda aqui!. Disponível em: https://www.iset.com.br/blog/o-que-e-api-restful-entenda-aqui/. Acesso em 4 de nov. de 2019."
   ]
  },
  {
   "cell_type": "code",
   "execution_count": null,
   "metadata": {},
   "outputs": [],
   "source": []
  }
 ],
 "metadata": {
  "kernelspec": {
   "display_name": "Python 3",
   "language": "python",
   "name": "python3"
  },
  "language_info": {
   "codemirror_mode": {
    "name": "ipython",
    "version": 3
   },
   "file_extension": ".py",
   "mimetype": "text/x-python",
   "name": "python",
   "nbconvert_exporter": "python",
   "pygments_lexer": "ipython3",
   "version": "3.7.3"
  }
 },
 "nbformat": 4,
 "nbformat_minor": 2
}
